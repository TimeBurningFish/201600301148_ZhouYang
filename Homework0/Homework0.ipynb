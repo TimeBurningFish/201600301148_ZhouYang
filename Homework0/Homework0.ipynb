{
 "cells": [
  {
   "cell_type": "markdown",
   "metadata": {},
   "source": [
    "# 实验1 python 基础操作\n",
    "* numpy 基础操作\n",
    "* pytorch 基础操作"
   ]
  },
  {
   "cell_type": "code",
   "execution_count": 1,
   "metadata": {},
   "outputs": [],
   "source": [
    "import numpy as np\n",
    "import torch"
   ]
  },
  {
   "cell_type": "markdown",
   "metadata": {},
   "source": [
    "## Vectorization\n",
    " * Takes two 1-dimensional arrays and sums the products of all the pairs.\n",
    " * Takes one 2-dimensional array and apply the relu function on all the values of the array.\n",
    " * Takes one 2-dimensional array and apply the derivative of relu function on all the values of the array."
   ]
  },
  {
   "cell_type": "code",
   "execution_count": 2,
   "metadata": {},
   "outputs": [],
   "source": [
    "def vectorize_sumproducts(a,b):\n",
    "    \"\"\"\n",
    "     Takes two 1-dimensional arrays and sums the products of all the pairs.\n",
    "    :return:\n",
    "    \"\"\"\n",
    "    return np.sum(a*b)"
   ]
  },
  {
   "cell_type": "code",
   "execution_count": 3,
   "metadata": {},
   "outputs": [
    {
     "data": {
      "text/plain": [
       "5"
      ]
     },
     "execution_count": 3,
     "metadata": {},
     "output_type": "execute_result"
    }
   ],
   "source": [
    "a = np.array([0,1,1])\n",
    "b = np.array([0,2,3])\n",
    "\n",
    "vectorize_sumproducts(a,b)"
   ]
  },
  {
   "cell_type": "code",
   "execution_count": 4,
   "metadata": {},
   "outputs": [],
   "source": [
    "def vectorize_Relu(a):\n",
    "    \"\"\"\n",
    "    Takes one 2-dimensional array and apply the relu function on all the values of the array.\n",
    "    :return:\n",
    "    \"\"\"\n",
    "    indexs = np.where(a>0)\n",
    "    b = np.zeros(a.shape)\n",
    "    b[indexs] = a[indexs]\n",
    "    return b"
   ]
  },
  {
   "cell_type": "code",
   "execution_count": 5,
   "metadata": {},
   "outputs": [
    {
     "data": {
      "text/plain": [
       "array([[1., 0., 2.],\n",
       "       [3., 5., 0.]])"
      ]
     },
     "execution_count": 5,
     "metadata": {},
     "output_type": "execute_result"
    }
   ],
   "source": [
    "a = np.array([[1,-1,2],[3,5,-6]])\n",
    "\n",
    "vectorize_Relu(a)"
   ]
  },
  {
   "cell_type": "code",
   "execution_count": 6,
   "metadata": {},
   "outputs": [],
   "source": [
    "def vectorize_PrimeRelu(a):\n",
    "    \"\"\"\n",
    "    Takes one 2-dimensional array and apply the derivative of relu function on all the values of the array.\n",
    "    :return:\n",
    "    \"\"\"\n",
    "    indexs = np.where(a>0)\n",
    "    b = np.zeros(a.shape)\n",
    "    b[indexs] = 1\n",
    "    return b"
   ]
  },
  {
   "cell_type": "code",
   "execution_count": 7,
   "metadata": {},
   "outputs": [
    {
     "data": {
      "text/plain": [
       "array([[1., 0., 1.],\n",
       "       [1., 1., 0.]])"
      ]
     },
     "execution_count": 7,
     "metadata": {},
     "output_type": "execute_result"
    }
   ],
   "source": [
    "a = np.array([[1,-1,2],[3,5,-6]])\n",
    "\n",
    "vectorize_PrimeRelu(a)"
   ]
  },
  {
   "cell_type": "markdown",
   "metadata": {},
   "source": [
    "## Variable length\n",
    ">  ### Slice\n",
    ">> * Takes one 3-dimensional array with the starting position and the length of the output instances.\n",
    "    Your task is to slice the instances from the same starting position for the given length.\n",
    ">> * Takes one 3-dimensional array with the length of the output instances.\n",
    "     Your task is to keeping only the l last points for each instances in the dataset.   \n",
    ">> * Takes one 3-dimensional  array  with  the  length  of the output instances.\n",
    "     Your task is to slice the instances from a random point in each of the utterances with the given length.\n",
    "     Please use function numpy.random.randint for generating the starting position."
   ]
  },
  {
   "cell_type": "code",
   "execution_count": 8,
   "metadata": {},
   "outputs": [],
   "source": [
    "def Slice_fixed_point(a,lengths,start):\n",
    "    \"\"\"\n",
    "    Takes one 3-dimensional array with the starting position and the length of the output instances.\n",
    "    Your task is to slice the instances from the same starting position for the given length.\n",
    "    :return:\n",
    "    \"\"\"\n",
    "    \n",
    "    \n",
    "    \n",
    "    return a[start:lengths+start]"
   ]
  },
  {
   "cell_type": "code",
   "execution_count": 9,
   "metadata": {},
   "outputs": [
    {
     "name": "stdout",
     "output_type": "stream",
     "text": [
      "(3,)\n"
     ]
    },
    {
     "data": {
      "text/plain": [
       "array([list([[11, 12, 13, 14], [12, 13], [14, 15, 16, 17], [17, 18, 19, 110]]),\n",
       "       list([[21, 22, 23, 24], [22, 23, 24, 25], [24, 25, 26, 27], [4, 5, 6, 7], [27, 28, 29, 210]])],\n",
       "      dtype=object)"
      ]
     },
     "execution_count": 9,
     "metadata": {},
     "output_type": "execute_result"
    }
   ],
   "source": [
    "### a feature不定长，但是第一维确定\n",
    "a = [\n",
    "    [[1,2,3,4],\n",
    "    [2,3,4],\n",
    "    [7,8,9,10]],\n",
    "    \n",
    "    [[11,12,13,14],\n",
    "    [12,13],\n",
    "    [14,15,16,17],\n",
    "    [17,18,19,110]],\n",
    "    \n",
    "    [[21,22,23,24],\n",
    "    [22,23,24,25],\n",
    "    [24,25,26,27],\n",
    "    [4,5,6,7],\n",
    "    [27,28,29,210]],\n",
    "    \n",
    "]\n",
    "a = np.array(a)\n",
    "print(a.shape)\n",
    "Slice_fixed_point(a,2,1)"
   ]
  },
  {
   "cell_type": "code",
   "execution_count": 10,
   "metadata": {},
   "outputs": [],
   "source": [
    "def slice_last_point(a,length):\n",
    "    \"\"\"\n",
    "     Takes one 3-dimensional array with the length of the output instances.\n",
    "     Your task is to keeping only the l last points for each instances in the dataset.\n",
    "    :return:\n",
    "    \"\"\"\n",
    "    b = []\n",
    "    for aa in a:\n",
    "        b.append(aa[-length:])\n",
    "    return np.array(b)\n"
   ]
  },
  {
   "cell_type": "code",
   "execution_count": 11,
   "metadata": {},
   "outputs": [
    {
     "name": "stdout",
     "output_type": "stream",
     "text": [
      "(3, 2)\n"
     ]
    },
    {
     "data": {
      "text/plain": [
       "array([[list([2, 3, 4]), list([7, 8, 9, 10])],\n",
       "       [list([14, 15, 16, 17]), list([17, 18, 19, 110])],\n",
       "       [list([4, 5, 6, 7]), list([27, 28, 29, 210])]], dtype=object)"
      ]
     },
     "execution_count": 11,
     "metadata": {},
     "output_type": "execute_result"
    }
   ],
   "source": [
    "### a feature不定长，但是第一维确定\n",
    "a = [\n",
    "    [[1,2,3,4],\n",
    "    [2,3,4],\n",
    "    [7,8,9,10]],\n",
    "    \n",
    "    [[11,12,13,14],\n",
    "    [12,13],\n",
    "    [14,15,16,17],\n",
    "    [17,18,19,110]],\n",
    "    \n",
    "    [[21,22,23,24],\n",
    "    [22,23,24,25],\n",
    "    [24,25,26,27],\n",
    "    [4,5,6,7],\n",
    "    [27,28,29,210]],\n",
    "    \n",
    "]\n",
    "a = np.array(a)\n",
    "\n",
    "r = slice_last_point(a,2)\n",
    "print(r.shape)\n",
    "r"
   ]
  },
  {
   "cell_type": "code",
   "execution_count": 12,
   "metadata": {},
   "outputs": [],
   "source": [
    "def slice_random_point(a):\n",
    "    \"\"\"\n",
    "     Takes one 3-dimensional  array  with  the  length  of the output instances.\n",
    "     Your task is to slice the instances from a random point in each of the utterances with the given length.\n",
    "     Please use function numpy.random.randint for generating the starting position.\n",
    "    :return:\n",
    "    \"\"\"\n",
    "    b = []\n",
    "    for aa in a:\n",
    "        b.append([])\n",
    "        for aaa in aa:\n",
    "            start = np.random.randint(0,len(aaa))\n",
    "            b[-1].append(aaa[start:])\n",
    "    return np.array(b)\n"
   ]
  },
  {
   "cell_type": "code",
   "execution_count": 13,
   "metadata": {},
   "outputs": [
    {
     "name": "stdout",
     "output_type": "stream",
     "text": [
      "(3,)\n"
     ]
    },
    {
     "data": {
      "text/plain": [
       "array([list([[4], [3, 4], [10]]),\n",
       "       list([[11, 12, 13, 14], [13], [17], [19, 110]]),\n",
       "       list([[24], [25], [24, 25, 26, 27], [5, 6, 7], [27, 28, 29, 210]])],\n",
       "      dtype=object)"
      ]
     },
     "execution_count": 13,
     "metadata": {},
     "output_type": "execute_result"
    }
   ],
   "source": [
    "### a feature不定长，但是第一维确定\n",
    "a = [\n",
    "    [[1,2,3,4],\n",
    "    [2,3,4],\n",
    "    [7,8,9,10]],\n",
    "    \n",
    "    [[11,12,13,14],\n",
    "    [12,13],\n",
    "    [14,15,16,17],\n",
    "    [17,18,19,110]],\n",
    "    \n",
    "    [[21,22,23,24],\n",
    "    [22,23,24,25],\n",
    "    [24,25,26,27],\n",
    "    [4,5,6,7],\n",
    "    [27,28,29,210]],\n",
    "    \n",
    "]\n",
    "a = np.array(a)\n",
    "\n",
    "r = slice_random_point(a)\n",
    "print(r.shape)\n",
    "r"
   ]
  },
  {
   "cell_type": "markdown",
   "metadata": {},
   "source": [
    ">  ### Padding\n",
    ">> * Takes one 3-dimensional array.\n",
    "    Your task is to pad the instances from the end position as shown in the example below.\n",
    "    That is, you need to pad the reflection of the utterance mirrored along the edge of the array.\n",
    ">> * Takes one 3-dimensional array with the constant value of padding.\n",
    "     Your task is to pad the instances with the given constant value while maintaining the array at the center of the padding. \n"
   ]
  },
  {
   "cell_type": "code",
   "execution_count": 14,
   "metadata": {},
   "outputs": [],
   "source": [
    "def pad_pattern_end(a):\n",
    "    \"\"\"\n",
    "    Takes one 3-dimensional array.\n",
    "    Your task is to pad the instances from the end position as shown in the example below.\n",
    "    That is, you need to pad the reflection of the utterance mirrored along the edge of the array.\n",
    "    :return:\n",
    "    \"\"\"\n",
    "    b = []\n",
    "    for aa in a:\n",
    "        to_be_pad_len = max([len(aaa) for aaa in aa])\n",
    "        b.append([])\n",
    "        for aaa in aa:\n",
    "            len_pad = to_be_pad_len - len(aaa)\n",
    "            b[-1].append(np.pad(aaa,len_pad,'symmetric')[len_pad:])\n",
    "    return np.array(b)\n"
   ]
  },
  {
   "cell_type": "code",
   "execution_count": 15,
   "metadata": {},
   "outputs": [
    {
     "name": "stdout",
     "output_type": "stream",
     "text": [
      "(3,)\n"
     ]
    },
    {
     "data": {
      "text/plain": [
       "array([list([array([1, 2, 3, 4]), array([2, 3, 4, 4]), array([ 7,  8,  9, 10])]),\n",
       "       list([array([11, 12, 13, 14]), array([12, 13, 13, 12]), array([14, 15, 16, 17]), array([ 17,  18,  19, 110])]),\n",
       "       list([array([21, 22, 23, 24, 24, 23, 22]), array([22, 23, 24, 25, 25, 24, 23]), array([24, 25, 26, 27, 27, 26, 25]), array([4, 5, 6, 7, 7, 6, 5]), array([ 27,  28,  29, 210, 211, 212, 213])])],\n",
       "      dtype=object)"
      ]
     },
     "execution_count": 15,
     "metadata": {},
     "output_type": "execute_result"
    }
   ],
   "source": [
    "### a feature不定长，但是第一维确定\n",
    "a = [\n",
    "    [[1,2,3,4],\n",
    "    [2,3,4],\n",
    "    [7,8,9,10]],\n",
    "    \n",
    "    [[11,12,13,14],\n",
    "    [12,13],\n",
    "    [14,15,16,17],\n",
    "    [17,18,19,110]],\n",
    "    \n",
    "    [[21,22,23,24],\n",
    "    [22,23,24,25],\n",
    "    [24,25,26,27],\n",
    "    [4,5,6,7],\n",
    "    [27,28,29,210,211,212,213]],\n",
    "    \n",
    "]\n",
    "a = np.array(a)\n",
    "r = pad_pattern_end(a)\n",
    "print(r.shape)\n",
    "r"
   ]
  },
  {
   "cell_type": "code",
   "execution_count": 16,
   "metadata": {},
   "outputs": [],
   "source": [
    "def pad_constant_central(a,pad_token):\n",
    "    \"\"\"\n",
    "     Takes one 3-dimensional array with the constant value of padding.\n",
    "     Your task is to pad the instances with the given constant value while maintaining the array at the center of the padding.\n",
    "    :return:\n",
    "    \"\"\"\n",
    "    b = []\n",
    "    for aa in a:\n",
    "        to_be_pad_len = max([len(aaa) for aaa in aa])\n",
    "        b.append([])\n",
    "        for aaa in aa:\n",
    "            len_pad = to_be_pad_len - len(aaa)\n",
    "            if len_pad % 2== 0:\n",
    "                start = int(len_pad/2)\n",
    "            else:\n",
    "                start = int(len_pad/2) +1\n",
    "            b[-1].append(np.pad(aaa,len_pad,'constant',constant_values = pad_token)[start:start + to_be_pad_len])\n",
    "    return np.array(b)"
   ]
  },
  {
   "cell_type": "code",
   "execution_count": 17,
   "metadata": {},
   "outputs": [
    {
     "name": "stdout",
     "output_type": "stream",
     "text": [
      "(3,)\n"
     ]
    },
    {
     "data": {
      "text/plain": [
       "array([list([array([1, 2, 3, 4]), array([    2,     3,     4, 10000]), array([ 7,  8,  9, 10])]),\n",
       "       list([array([11, 12, 13, 14]), array([10000,    12,    13, 10000]), array([14, 15, 16, 17]), array([ 17,  18,  19, 110])]),\n",
       "       list([array([10000,    21,    22,    23,    24, 10000, 10000]), array([10000,    22,    23,    24,    25, 10000, 10000]), array([10000,    24,    25,    26,    27, 10000, 10000]), array([10000,     4,     5,     6,     7, 10000, 10000]), array([ 27,  28,  29, 210, 211, 212, 213])])],\n",
       "      dtype=object)"
      ]
     },
     "execution_count": 17,
     "metadata": {},
     "output_type": "execute_result"
    }
   ],
   "source": [
    "### a feature不定长，但是第一维确定\n",
    "a = [\n",
    "    [[1,2,3,4],\n",
    "    [2,3,4],\n",
    "    [7,8,9,10]],\n",
    "    \n",
    "    [[11,12,13,14],\n",
    "    [12,13],\n",
    "    [14,15,16,17],\n",
    "    [17,18,19,110]],\n",
    "    \n",
    "    [[21,22,23,24],\n",
    "    [22,23,24,25],\n",
    "    [24,25,26,27],\n",
    "    [4,5,6,7],\n",
    "    [27,28,29,210,211,212,213]],\n",
    "    \n",
    "]\n",
    "a = np.array(a)\n",
    "\n",
    "r = pad_constant_central(a,10000)\n",
    "print(r.shape)\n",
    "r"
   ]
  },
  {
   "cell_type": "markdown",
   "metadata": {},
   "source": [
    "## PyTorch\n",
    "> ### numpy&torch\n",
    ">> * Takes a numpy ndarray and converts it to a PyTorch tensor.\n",
    "     Function torch.tensor is one of the simple ways to implement it but please do not use it this time.\n",
    ">> * Takes a PyTorch tensor and converts it to a numpy ndarray."
   ]
  },
  {
   "cell_type": "code",
   "execution_count": 18,
   "metadata": {},
   "outputs": [],
   "source": [
    "def numpy2tensor(a):\n",
    "    \"\"\"\n",
    "    Takes a numpy ndarray and converts it to a PyTorch tensor.\n",
    "    Function torch.tensor is one of the simple ways to implement it but please do not use it this time.\n",
    "    :return:\n",
    "    \"\"\"\n",
    "    return torch.from_numpy(a)"
   ]
  },
  {
   "cell_type": "code",
   "execution_count": 19,
   "metadata": {},
   "outputs": [
    {
     "data": {
      "text/plain": [
       "tensor([[ 1,  2,  3],\n",
       "        [ 4,  5,  6]])"
      ]
     },
     "execution_count": 19,
     "metadata": {},
     "output_type": "execute_result"
    }
   ],
   "source": [
    "a = np.array([\n",
    "    [1,2,3],\n",
    "    [4,5,6]\n",
    "])\n",
    "numpy2tensor(a)"
   ]
  },
  {
   "cell_type": "code",
   "execution_count": 20,
   "metadata": {},
   "outputs": [],
   "source": [
    "def tensor2numpy(a):\n",
    "    \"\"\"\n",
    "    Takes a PyTorch tensor and converts it to a numpy ndarray.\n",
    "    :return:\n",
    "    \"\"\"\n",
    "    return a.numpy()"
   ]
  },
  {
   "cell_type": "code",
   "execution_count": 21,
   "metadata": {},
   "outputs": [
    {
     "data": {
      "text/plain": [
       "array([[1., 2., 3.],\n",
       "       [2., 3., 4.]], dtype=float32)"
      ]
     },
     "execution_count": 21,
     "metadata": {},
     "output_type": "execute_result"
    }
   ],
   "source": [
    "a = torch.Tensor([\n",
    "    [1,2,3],\n",
    "    [2,3,4]\n",
    "])\n",
    "\n",
    "tensor2numpy(a)"
   ]
  },
  {
   "cell_type": "markdown",
   "metadata": {},
   "source": [
    "> ### Tensor Sum-products\n",
    ">> *     you are to implement the function tensor sumproducts that takes two tensors as input.\n",
    "    returns the sum of the element-wise products of the two tensors.\n",
    "> ### Tensor ReLu and ReLu prime\n",
    ">> * Takes one 2-dimensional tensor and apply the relu function on all the values of the tensor.\n",
    ">> * Takes one 2-dimensional tensor and apply the derivative of relu function on all the values of the tensor."
   ]
  },
  {
   "cell_type": "code",
   "execution_count": 22,
   "metadata": {},
   "outputs": [],
   "source": [
    "def Tensor_Sumproducts(a,b):\n",
    "    \"\"\"\n",
    "    you are to implement the function tensor sumproducts that takes two tensors as input.\n",
    "    returns the sum of the element-wise products of the two tensors.\n",
    "    :return:\n",
    "    \"\"\"\n",
    "    return (a*b).sum()"
   ]
  },
  {
   "cell_type": "code",
   "execution_count": 23,
   "metadata": {},
   "outputs": [
    {
     "data": {
      "text/plain": [
       "tensor(76.)"
      ]
     },
     "execution_count": 23,
     "metadata": {},
     "output_type": "execute_result"
    }
   ],
   "source": [
    "a = torch.Tensor([\n",
    "    [1,2,3],\n",
    "    [2,3,4]\n",
    "])\n",
    "\n",
    "b = torch.Tensor([\n",
    "    [2,3,4],\n",
    "    [5,6,7]\n",
    "])\n",
    "\n",
    "Tensor_Sumproducts(a,b)"
   ]
  },
  {
   "cell_type": "code",
   "execution_count": 42,
   "metadata": {},
   "outputs": [],
   "source": [
    "def Tensor_Relu(a):\n",
    "    \"\"\"\n",
    "    Takes one 2-dimensional tensor and apply the relu function on all the values of the tensor.\n",
    "    :return:\n",
    "    \"\"\"\n",
    "\n",
    "    return torch.where(a<=0, torch.full_like(a, 0), a)\n",
    "\n",
    "def Tensor_Relu_prime(a):\n",
    "    \"\"\"\n",
    "    Takes one 2-dimensional tensor and apply the derivative of relu function on all the values of the tensor.\n",
    "    :return:\n",
    "    \"\"\"\n",
    "\n",
    "    return torch.where(a<=0, torch.full_like(a, 0), torch.full_like(a, 1))"
   ]
  },
  {
   "cell_type": "code",
   "execution_count": 43,
   "metadata": {},
   "outputs": [
    {
     "data": {
      "text/plain": [
       "tensor([[ 0.,  0.,  3.],\n",
       "        [ 2.,  3.,  0.]])"
      ]
     },
     "execution_count": 43,
     "metadata": {},
     "output_type": "execute_result"
    }
   ],
   "source": [
    "a = torch.Tensor([\n",
    "    [-11,-2,3],\n",
    "    [2,3,0]\n",
    "])\n",
    "\n",
    "Tensor_Relu(a)"
   ]
  },
  {
   "cell_type": "code",
   "execution_count": 44,
   "metadata": {},
   "outputs": [
    {
     "data": {
      "text/plain": [
       "tensor([[ 0.,  0.,  1.],\n",
       "        [ 1.,  1.,  0.]])"
      ]
     },
     "execution_count": 44,
     "metadata": {},
     "output_type": "execute_result"
    }
   ],
   "source": [
    "Tensor_Relu_prime(a)"
   ]
  }
 ],
 "metadata": {
  "kernelspec": {
   "display_name": "Python 2",
   "language": "python",
   "name": "python2"
  },
  "language_info": {
   "codemirror_mode": {
    "name": "ipython",
    "version": 3
   },
   "file_extension": ".py",
   "mimetype": "text/x-python",
   "name": "python",
   "nbconvert_exporter": "python",
   "pygments_lexer": "ipython3",
   "version": "3.6.5"
  }
 },
 "nbformat": 4,
 "nbformat_minor": 2
}
